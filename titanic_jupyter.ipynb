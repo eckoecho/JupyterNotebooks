{
 "cells": [
  {
   "cell_type": "markdown",
   "metadata": {},
   "source": [
    "# Examining Titantic Data\n",
    "\n",
    "## hol_5_1_l\n",
    "\n",
    "### Description\n",
    "\n",
    "A common data science beginner's challenge is to examine Titantic data to look for patterns in survivability.  You are considering pursuing a career as a data scientist so you have decided to look at the Titantic data to get a cursory look at the career.\n",
    "\n",
    "Below you should review the data and try to answer the questions:\n",
    "1. What part did age play?\n",
    "2. What part did gender play?\n",
    "3. Did the passenger class make a difference?\n"
   ]
  },
  {
   "cell_type": "markdown",
   "metadata": {},
   "source": [
    "# Titanic Data: Factors Affecting Survivability\n",
    "\n",
    "This data was collected from a web search.  It is available from many different organizations.  The data provides specific data about passengers on the Titanic and whether they survived the disaster or not.\n",
    "\n",
    "The various data available is defined as:\n",
    "- PassengerId - Indexed starting at 1\n",
    "- Survived - Survival (0 = No; 1 = Yes)\n",
    "- Pclass - Passenger Class (1 = 1st; 2 = 2nd; 3 = 3rd)\n",
    "- Name - Name\n",
    "- Sex - Sex\n",
    "- Age - Age\n",
    "- SibSp - Number of Siblings/Spouses Aboard\n",
    "- Parch - Number of Parents/Children Aboard\n",
    "- Ticket - Ticket Number\n",
    "- Fare - Passenger Fare\n",
    "- Cabin - Cabin\n",
    "- Embarked - Port of Embarkation (C = Cherbourg; Q = Queenstown; S = Southampton)\n",
    "\n",
    "The questions we are asking:\n",
    "1. What part did age play?\n",
    "2. What part did gender play?\n",
    "3. Did the passenger class make a difference?"
   ]
  },
  {
   "cell_type": "code",
   "execution_count": 16,
   "metadata": {},
   "outputs": [
    {
     "name": "stdout",
     "output_type": "stream",
     "text": [
      "Collecting package metadata (current_repodata.json): done\n",
      "Solving environment: done\n",
      "\n",
      "## Package Plan ##\n",
      "\n",
      "  environment location: /Users/echodiaz/opt/anaconda3/envs/Jupyter_Projects\n",
      "\n",
      "  added / updated specs:\n",
      "    - matplotlib\n",
      "\n",
      "\n",
      "The following packages will be downloaded:\n",
      "\n",
      "    package                    |            build\n",
      "    ---------------------------|-----------------\n",
      "    cycler-0.11.0              |     pyhd3eb1b0_0          12 KB\n",
      "    freetype-2.11.0            |       hd8bbffd_0         589 KB\n",
      "    matplotlib-3.5.0           |   py39hecd8cb5_0          28 KB\n",
      "    matplotlib-base-3.5.0      |   py39h4f681db_0         5.7 MB\n",
      "    ------------------------------------------------------------\n",
      "                                           Total:         6.3 MB\n",
      "\n",
      "The following NEW packages will be INSTALLED:\n",
      "\n",
      "  brotli             pkgs/main/osx-64::brotli-1.0.9-hb1e8313_2\n",
      "  cycler             pkgs/main/noarch::cycler-0.11.0-pyhd3eb1b0_0\n",
      "  fonttools          pkgs/main/noarch::fonttools-4.25.0-pyhd3eb1b0_0\n",
      "  freetype           pkgs/main/osx-64::freetype-2.11.0-hd8bbffd_0\n",
      "  giflib             pkgs/main/osx-64::giflib-5.2.1-haf1e3a3_0\n",
      "  jpeg               pkgs/main/osx-64::jpeg-9d-h9ed2024_0\n",
      "  kiwisolver         pkgs/main/osx-64::kiwisolver-1.3.1-py39h23ab428_0\n",
      "  lcms2              pkgs/main/osx-64::lcms2-2.12-hf1fd2bf_0\n",
      "  libpng             pkgs/main/osx-64::libpng-1.6.37-ha441bb4_0\n",
      "  libtiff            pkgs/main/osx-64::libtiff-4.2.0-h87d7836_0\n",
      "  libwebp            pkgs/main/osx-64::libwebp-1.2.0-hacca55c_0\n",
      "  libwebp-base       pkgs/main/osx-64::libwebp-base-1.2.0-h9ed2024_0\n",
      "  lz4-c              pkgs/main/osx-64::lz4-c-1.9.3-h23ab428_1\n",
      "  matplotlib         pkgs/main/osx-64::matplotlib-3.5.0-py39hecd8cb5_0\n",
      "  matplotlib-base    pkgs/main/osx-64::matplotlib-base-3.5.0-py39h4f681db_0\n",
      "  munkres            pkgs/main/noarch::munkres-1.1.4-py_0\n",
      "  olefile            pkgs/main/noarch::olefile-0.46-pyhd3eb1b0_0\n",
      "  pillow             pkgs/main/osx-64::pillow-8.4.0-py39h98e4679_0\n",
      "  zstd               pkgs/main/osx-64::zstd-1.4.9-h322a384_0\n",
      "\n",
      "\n",
      "\n",
      "Downloading and Extracting Packages\n",
      "freetype-2.11.0      | 589 KB    | ##################################### | 100% \n",
      "matplotlib-base-3.5. | 5.7 MB    | ##################################### | 100% \n",
      "cycler-0.11.0        | 12 KB     | ##################################### | 100% \n",
      "matplotlib-3.5.0     | 28 KB     | ##################################### | 100% \n",
      "Preparing transaction: done\n",
      "Verifying transaction: done\n",
      "Executing transaction: done\n",
      "\n",
      "Note: you may need to restart the kernel to use updated packages.\n"
     ]
    }
   ],
   "source": [
    "conda install matplotlib"
   ]
  },
  {
   "cell_type": "code",
   "execution_count": 23,
   "metadata": {},
   "outputs": [
    {
     "name": "stdout",
     "output_type": "stream",
     "text": [
      "/Users/echodiaz/opt/anaconda3/bin/python\r\n",
      "/usr/bin/python\r\n"
     ]
    }
   ],
   "source": [
    "!which -a python"
   ]
  },
  {
   "cell_type": "code",
   "execution_count": 2,
   "metadata": {},
   "outputs": [
    {
     "name": "stdout",
     "output_type": "stream",
     "text": [
      "\n",
      "Here is a list of modules whose name or summary contains 'matplotlib'.\n",
      "If there are any, enter a module name to get more help.\n",
      "\n",
      "IPython.core.magics.pylab - Implementation of magic functions for matplotlib/pylab support.\n",
      "IPython.core.pylabtools - Pylab (matplotlib) support utilities.\n",
      "ipykernel.pylab.backend_inline - A matplotlib backend for publishing figures via display_data\n",
      "matplotlib_inline \n",
      "matplotlib_inline.backend_inline - A matplotlib backend for publishing figures via display_data\n",
      "matplotlib_inline.config - Configurable for configuring the IPython inline backend\n",
      "\n"
     ]
    }
   ],
   "source": [
    "help(\"modules matplotlib\")"
   ]
  },
  {
   "cell_type": "code",
   "execution_count": 17,
   "metadata": {},
   "outputs": [
    {
     "name": "stdout",
     "output_type": "stream",
     "text": [
      "{\r\n",
      "  \"kernelspecs\": {\r\n",
      "    \"anaconda-jupyter_projects\": {\r\n",
      "      \"resource_dir\": \"/Users/echodiaz/Library/Jupyter/kernels/anaconda-jupyter_projects\",\r\n",
      "      \"spec\": {\r\n",
      "        \"argv\": [\r\n",
      "          \"/Users/echodiaz/opt/anaconda3/envs/Jupyter_Projects/bin/python\",\r\n",
      "          \"-m\",\r\n",
      "          \"ipykernel_launcher\",\r\n",
      "          \"-f\",\r\n",
      "          \"{connection_file}\"\r\n",
      "        ],\r\n",
      "        \"env\": {},\r\n",
      "        \"display_name\": \"Anaconda (Jupyter Projects)\",\r\n",
      "        \"language\": \"python\",\r\n",
      "        \"interrupt_mode\": \"signal\",\r\n",
      "        \"metadata\": {\r\n",
      "          \"debugger\": true\r\n",
      "        }\r\n",
      "      }\r\n",
      "    },\r\n",
      "    \"python3\": {\r\n",
      "      \"resource_dir\": \"/Users/echodiaz/opt/anaconda3/share/jupyter/kernels/python3\",\r\n",
      "      \"spec\": {\r\n",
      "        \"argv\": [\r\n",
      "          \"/Users/echodiaz/opt/anaconda3/bin/python\",\r\n",
      "          \"-m\",\r\n",
      "          \"ipykernel_launcher\",\r\n",
      "          \"-f\",\r\n",
      "          \"{connection_file}\"\r\n",
      "        ],\r\n",
      "        \"env\": {},\r\n",
      "        \"display_name\": \"Python 3 (ipykernel)\",\r\n",
      "        \"language\": \"python\",\r\n",
      "        \"interrupt_mode\": \"signal\",\r\n",
      "        \"metadata\": {\r\n",
      "          \"debugger\": true\r\n",
      "        }\r\n",
      "      }\r\n",
      "    }\r\n",
      "  }\r\n",
      "}\r\n"
     ]
    }
   ],
   "source": [
    "!jupyter kernelspec list --json"
   ]
  },
  {
   "cell_type": "markdown",
   "metadata": {},
   "source": [
    "#### Load the CSV Data Into a Dataframe"
   ]
  },
  {
   "cell_type": "code",
   "execution_count": 15,
   "metadata": {},
   "outputs": [
    {
     "name": "stdout",
     "output_type": "stream",
     "text": [
      "Collecting package metadata (current_repodata.json): done\n",
      "Solving environment: done\n",
      "\n",
      "## Package Plan ##\n",
      "\n",
      "  environment location: /Users/echodiaz/opt/anaconda3/envs/Jupyter_Projects\n",
      "\n",
      "  added / updated specs:\n",
      "    - pandas\n",
      "\n",
      "\n",
      "The following packages will be downloaded:\n",
      "\n",
      "    package                    |            build\n",
      "    ---------------------------|-----------------\n",
      "    numpy-1.21.2               |   py39h4b4dc7a_0          23 KB\n",
      "    numpy-base-1.21.2          |   py39he0bd621_0         4.6 MB\n",
      "    ------------------------------------------------------------\n",
      "                                           Total:         4.6 MB\n",
      "\n",
      "The following NEW packages will be INSTALLED:\n",
      "\n",
      "  blas               pkgs/main/osx-64::blas-1.0-mkl\n",
      "  bottleneck         pkgs/main/osx-64::bottleneck-1.3.2-py39he3068b8_1\n",
      "  intel-openmp       pkgs/main/osx-64::intel-openmp-2021.4.0-hecd8cb5_3538\n",
      "  mkl                pkgs/main/osx-64::mkl-2021.4.0-hecd8cb5_637\n",
      "  mkl-service        pkgs/main/osx-64::mkl-service-2.4.0-py39h9ed2024_0\n",
      "  mkl_fft            pkgs/main/osx-64::mkl_fft-1.3.1-py39h4ab4a9b_0\n",
      "  mkl_random         pkgs/main/osx-64::mkl_random-1.2.2-py39hb2f4e1b_0\n",
      "  numexpr            pkgs/main/osx-64::numexpr-2.7.3-py39h5873af2_1\n",
      "  numpy              pkgs/main/osx-64::numpy-1.21.2-py39h4b4dc7a_0\n",
      "  numpy-base         pkgs/main/osx-64::numpy-base-1.21.2-py39he0bd621_0\n",
      "  pandas             pkgs/main/osx-64::pandas-1.3.4-py39h743cdd8_0\n",
      "  pytz               pkgs/main/noarch::pytz-2021.3-pyhd3eb1b0_0\n",
      "\n",
      "\n",
      "\n",
      "Downloading and Extracting Packages\n",
      "numpy-base-1.21.2    | 4.6 MB    | ##################################### | 100% \n",
      "numpy-1.21.2         | 23 KB     | ##################################### | 100% \n",
      "Preparing transaction: done\n",
      "Verifying transaction: done\n",
      "Executing transaction: done\n",
      "\n",
      "Note: you may need to restart the kernel to use updated packages.\n"
     ]
    }
   ],
   "source": [
    "conda install pandas"
   ]
  },
  {
   "cell_type": "code",
   "execution_count": 20,
   "metadata": {},
   "outputs": [
    {
     "data": {
      "text/html": [
       "<div>\n",
       "<style scoped>\n",
       "    .dataframe tbody tr th:only-of-type {\n",
       "        vertical-align: middle;\n",
       "    }\n",
       "\n",
       "    .dataframe tbody tr th {\n",
       "        vertical-align: top;\n",
       "    }\n",
       "\n",
       "    .dataframe thead th {\n",
       "        text-align: right;\n",
       "    }\n",
       "</style>\n",
       "<table border=\"1\" class=\"dataframe\">\n",
       "  <thead>\n",
       "    <tr style=\"text-align: right;\">\n",
       "      <th></th>\n",
       "      <th>PassengerId</th>\n",
       "      <th>Survived</th>\n",
       "      <th>Pclass</th>\n",
       "      <th>Name</th>\n",
       "      <th>Sex</th>\n",
       "      <th>Age</th>\n",
       "      <th>SibSp</th>\n",
       "      <th>Parch</th>\n",
       "      <th>Ticket</th>\n",
       "      <th>Fare</th>\n",
       "      <th>Cabin</th>\n",
       "      <th>Embarked</th>\n",
       "    </tr>\n",
       "  </thead>\n",
       "  <tbody>\n",
       "    <tr>\n",
       "      <th>0</th>\n",
       "      <td>1</td>\n",
       "      <td>0</td>\n",
       "      <td>3</td>\n",
       "      <td>Braund, Mr. Owen Harris</td>\n",
       "      <td>male</td>\n",
       "      <td>22.0</td>\n",
       "      <td>1</td>\n",
       "      <td>0</td>\n",
       "      <td>A/5 21171</td>\n",
       "      <td>7.2500</td>\n",
       "      <td>NaN</td>\n",
       "      <td>S</td>\n",
       "    </tr>\n",
       "    <tr>\n",
       "      <th>1</th>\n",
       "      <td>2</td>\n",
       "      <td>1</td>\n",
       "      <td>1</td>\n",
       "      <td>Cumings, Mrs. John Bradley (Florence Briggs Th...</td>\n",
       "      <td>female</td>\n",
       "      <td>38.0</td>\n",
       "      <td>1</td>\n",
       "      <td>0</td>\n",
       "      <td>PC 17599</td>\n",
       "      <td>71.2833</td>\n",
       "      <td>C85</td>\n",
       "      <td>C</td>\n",
       "    </tr>\n",
       "    <tr>\n",
       "      <th>2</th>\n",
       "      <td>3</td>\n",
       "      <td>1</td>\n",
       "      <td>3</td>\n",
       "      <td>Heikkinen, Miss. Laina</td>\n",
       "      <td>female</td>\n",
       "      <td>26.0</td>\n",
       "      <td>0</td>\n",
       "      <td>0</td>\n",
       "      <td>STON/O2. 3101282</td>\n",
       "      <td>7.9250</td>\n",
       "      <td>NaN</td>\n",
       "      <td>S</td>\n",
       "    </tr>\n",
       "    <tr>\n",
       "      <th>3</th>\n",
       "      <td>4</td>\n",
       "      <td>1</td>\n",
       "      <td>1</td>\n",
       "      <td>Futrelle, Mrs. Jacques Heath (Lily May Peel)</td>\n",
       "      <td>female</td>\n",
       "      <td>35.0</td>\n",
       "      <td>1</td>\n",
       "      <td>0</td>\n",
       "      <td>113803</td>\n",
       "      <td>53.1000</td>\n",
       "      <td>C123</td>\n",
       "      <td>S</td>\n",
       "    </tr>\n",
       "    <tr>\n",
       "      <th>4</th>\n",
       "      <td>5</td>\n",
       "      <td>0</td>\n",
       "      <td>3</td>\n",
       "      <td>Allen, Mr. William Henry</td>\n",
       "      <td>male</td>\n",
       "      <td>35.0</td>\n",
       "      <td>0</td>\n",
       "      <td>0</td>\n",
       "      <td>373450</td>\n",
       "      <td>8.0500</td>\n",
       "      <td>NaN</td>\n",
       "      <td>S</td>\n",
       "    </tr>\n",
       "  </tbody>\n",
       "</table>\n",
       "</div>"
      ],
      "text/plain": [
       "   PassengerId  Survived  Pclass  \\\n",
       "0            1         0       3   \n",
       "1            2         1       1   \n",
       "2            3         1       3   \n",
       "3            4         1       1   \n",
       "4            5         0       3   \n",
       "\n",
       "                                                Name     Sex   Age  SibSp  \\\n",
       "0                            Braund, Mr. Owen Harris    male  22.0      1   \n",
       "1  Cumings, Mrs. John Bradley (Florence Briggs Th...  female  38.0      1   \n",
       "2                             Heikkinen, Miss. Laina  female  26.0      0   \n",
       "3       Futrelle, Mrs. Jacques Heath (Lily May Peel)  female  35.0      1   \n",
       "4                           Allen, Mr. William Henry    male  35.0      0   \n",
       "\n",
       "   Parch            Ticket     Fare Cabin Embarked  \n",
       "0      0         A/5 21171   7.2500   NaN        S  \n",
       "1      0          PC 17599  71.2833   C85        C  \n",
       "2      0  STON/O2. 3101282   7.9250   NaN        S  \n",
       "3      0            113803  53.1000  C123        S  \n",
       "4      0            373450   8.0500   NaN        S  "
      ]
     },
     "execution_count": 20,
     "metadata": {},
     "output_type": "execute_result"
    }
   ],
   "source": [
    "import matplotlib.pyplot as plt\n",
    "import pandas as pd\n",
    "\n",
    "%matplotlib inline\n",
    "\n",
    "titanic_df = pd.read_csv('titanic.csv')\n",
    "                       \n",
    "titanic_df.head()"
   ]
  },
  {
   "cell_type": "markdown",
   "metadata": {},
   "source": [
    "#### Examine The Affect of Age on Survivability\n",
    "\n",
    "- Under 12\n",
    "- 13 - 24\n",
    "- 25 - 49\n",
    "- 50 - 74\n",
    "- 75 and Older"
   ]
  },
  {
   "cell_type": "code",
   "execution_count": 22,
   "metadata": {},
   "outputs": [
    {
     "name": "stdout",
     "output_type": "stream",
     "text": [
      "Under 12:\t68 - 0.5735294117647058\n",
      "13 - 24:\t209 - 0.37320574162679426\n",
      "25 - 49:\t362 - 0.4005524861878453\n",
      "50 - 74:\t72 - 0.3611111111111111\n",
      "75 & Over:\t1 - 1.0\n"
     ]
    }
   ],
   "source": [
    "#### Under 12\n",
    "passengers_under_12 = titanic_df[titanic_df.Age < 12]\n",
    "passengers_under_12_survived = passengers_under_12[passengers_under_12.Survived == 1]\n",
    "passengers_under_12_percent_survived = passengers_under_12_survived.Age.count() / passengers_under_12.Age.count()\n",
    "\n",
    "# Under 13 - 24\n",
    "passengers_13_to_24 = titanic_df[(titanic_df.Age >= 13) & (titanic_df.Age < 25)]\n",
    "passengers_13_to_24_survived = passengers_13_to_24[passengers_13_to_24.Survived == 1]\n",
    "passengers_13_to_24_percent_survived = passengers_13_to_24_survived.Age.count() / passengers_13_to_24.Age.count()\n",
    "\n",
    "# 25 to 49\n",
    "passengers_25_to_49 = titanic_df[(titanic_df.Age >= 25) & (titanic_df.Age < 50)]\n",
    "passengers_25_to_49_survived = passengers_25_to_49[passengers_25_to_49.Survived == 1]\n",
    "passengers_25_to_49_percent_survived = passengers_25_to_49_survived.Age.count() / passengers_25_to_49.Age.count()\n",
    "\n",
    "# 50 to 74\n",
    "passengers_50_to_74 = titanic_df[(titanic_df.Age >= 50) & (titanic_df.Age < 74)]\n",
    "passengers_50_to_74_survived = passengers_50_to_74[passengers_50_to_74.Survived == 1]\n",
    "passengers_50_to_74_percent_survived = passengers_50_to_74_survived.Age.count() / passengers_50_to_74.Age.count()\n",
    "\n",
    "# 75 and over\n",
    "passengers_75_over = titanic_df[titanic_df.Age > 74]\n",
    "passengers_75_over_survived = passengers_75_over[passengers_75_over.Survived == 1]\n",
    "passengers_75_over_percent_survived = passengers_75_over_survived.Age.count() / passengers_75_over.Age.count()\n",
    "\n",
    "print(f'Under 12:\\t{passengers_under_12.Age.count()} - {passengers_under_12_percent_survived}')\n",
    "print(f'13 - 24:\\t{passengers_13_to_24.Age.count()} - {passengers_13_to_24_percent_survived}')\n",
    "print(f'25 - 49:\\t{passengers_25_to_49.Age.count()} - {passengers_25_to_49_percent_survived}')\n",
    "print(f'50 - 74:\\t{passengers_50_to_74.Age.count()} - {passengers_50_to_74_percent_survived}')\n",
    "print(f'75 & Over:\\t{passengers_75_over.Age.count()} - {passengers_75_over_percent_survived}')\n"
   ]
  },
  {
   "cell_type": "code",
   "execution_count": 23,
   "metadata": {},
   "outputs": [
    {
     "data": {
      "text/plain": [
       "Text(0.5, 1.0, 'Titanic Survivablity by Age Group')"
      ]
     },
     "execution_count": 23,
     "metadata": {},
     "output_type": "execute_result"
    },
    {
     "data": {
      "image/png": "[encoded data removed]",
      "text/plain": [
       "<Figure size 432x288 with 1 Axes>"
      ]
     },
     "metadata": {
      "needs_background": "light"
     },
     "output_type": "display_data"
    }
   ],
   "source": [
    "# Show data as a bar chart\n",
    "groups = ('Under 12', '13 - 24', '25 - 49', '50 - 74', '75 & Over')\n",
    "percentages = [0.57, 0.37, 0.41, 0.36, 1]\n",
    "plt.bar(groups, percentages, align='center', alpha=0.5)\n",
    "plt.ylabel(\"Percent Survived\")\n",
    "plt.title(\"Titanic Survivablity by Age Group\")"
   ]
  },
  {
   "cell_type": "markdown",
   "metadata": {},
   "source": [
    "The suggests that children under 13 may have been given some perferential treatment for lifeboats.  However, it is not clear if survivability is only those that died in the event.  It may be that some of the children may have been more susceptible to environment factors, such as, temperature, and died in the lifeboat.\n",
    "\n",
    "Since there was only one passenger in the 75 & Over group, the survivability of that group is not useful and should not be considered."
   ]
  },
  {
   "cell_type": "markdown",
   "metadata": {},
   "source": [
    "### Examine the Affect of Gender on Survivability\n"
   ]
  },
  {
   "cell_type": "code",
   "execution_count": 24,
   "metadata": {},
   "outputs": [
    {
     "name": "stdout",
     "output_type": "stream",
     "text": [
      "Male:\t577 - 0.18890814558058924\n",
      "Female:\t314 - 0.7420382165605095\n"
     ]
    }
   ],
   "source": [
    "#### Male\n",
    "passengers_male = titanic_df[titanic_df.Sex == \"male\"]\n",
    "passengers_male_survived = passengers_male[passengers_male.Survived == 1]\n",
    "passengers_male_percent_survived = passengers_male_survived.Sex.count() / passengers_male.Sex.count()\n",
    "\n",
    "#### Female\n",
    "passengers_female = titanic_df[titanic_df.Sex == \"female\"]\n",
    "passengers_female_survived = passengers_female[passengers_female.Survived == 1]\n",
    "passengers_female_percent_survived = passengers_female_survived.Sex.count() / passengers_female.Sex.count()\n",
    "\n",
    "\n",
    "print(f'Male:\\t{passengers_male.Sex.count()} - {passengers_male_percent_survived}')\n",
    "print(f'Female:\\t{passengers_female.Sex.count()} - {passengers_female_percent_survived}')"
   ]
  },
  {
   "cell_type": "code",
   "execution_count": 25,
   "metadata": {},
   "outputs": [
    {
     "data": {
      "text/plain": [
       "Text(0.5, 1.0, 'Titanic Survivablity by Gender')"
      ]
     },
     "execution_count": 25,
     "metadata": {},
     "output_type": "execute_result"
    },
    {
     "data": {
      "image/png": "[encoded data removed]",
      "text/plain": [
       "<Figure size 432x288 with 1 Axes>"
      ]
     },
     "metadata": {
      "needs_background": "light"
     },
     "output_type": "display_data"
    }
   ],
   "source": [
    "# Show data as a bar chart\n",
    "groups = ('Male', 'Female')\n",
    "percentages = [0.18, 0.74]\n",
    "plt.bar(groups, percentages, align='center', alpha=0.5)\n",
    "plt.ylabel(\"Percent Survived\")\n",
    "plt.title(\"Titanic Survivablity by Gender\")"
   ]
  },
  {
   "cell_type": "markdown",
   "metadata": {},
   "source": [
    "# Age Range of Female Survival"
   ]
  },
  {
   "cell_type": "code",
   "execution_count": 53,
   "metadata": {},
   "outputs": [
    {
     "data": {
      "text/plain": [
       "19"
      ]
     },
     "execution_count": 53,
     "metadata": {},
     "output_type": "execute_result"
    }
   ],
   "source": [
    "#### Female\n",
    "passengers_female = titanic_df[titanic_df.Sex == \"female\"]\n",
    "passengers_female_survived = passengers_female[passengers_female.Survived == 1]\n",
    "passengers_female_survived_under_12 = passengers_female_survived[passengers_female_survived.Age < 12]\n",
    "passengers_female_survived_under_12.Age.count()"
   ]
  },
  {
   "cell_type": "markdown",
   "metadata": {},
   "source": [
    "It is obvious female passengers were given preference over male passengers for lifeboats.  It would be interesting to break down the male survivors by age group.  Hypothesis: Younger males survived at a great rate."
   ]
  },
  {
   "cell_type": "markdown",
   "metadata": {},
   "source": [
    "### Examine the Affect of Passenger Class on Survivability"
   ]
  },
  {
   "cell_type": "code",
   "execution_count": 26,
   "metadata": {},
   "outputs": [
    {
     "name": "stdout",
     "output_type": "stream",
     "text": [
      "Class 1:\t216 - 0.6296296296296297\n",
      "Class 2:\t184 - 0.47282608695652173\n",
      "Class 3:\t491 - 0.24236252545824846\n"
     ]
    }
   ],
   "source": [
    "#### Passenger Class 1\n",
    "passengers_class_1 = titanic_df[titanic_df.Pclass == 1]\n",
    "passengers_class_1_survived = passengers_class_1[passengers_class_1.Survived == 1]\n",
    "passengers_class_1_percent_survived = passengers_class_1_survived.Pclass.count() / passengers_class_1.Pclass.count()\n",
    "\n",
    "#### Passenger Class 2\n",
    "passengers_class_2 = titanic_df[titanic_df.Pclass == 2]\n",
    "passengers_class_2_survived = passengers_class_2[passengers_class_2.Survived == 1]\n",
    "passengers_class_2_percent_survived = passengers_class_2_survived.Pclass.count() / passengers_class_2.Pclass.count()\n",
    "\n",
    "#### Passenger Class 3\n",
    "passengers_class_3 = titanic_df[titanic_df.Pclass == 3]\n",
    "passengers_class_3_survived = passengers_class_3[passengers_class_3.Survived == 1]\n",
    "passengers_class_3_percent_survived = passengers_class_3_survived.Pclass.count() / passengers_class_3.Pclass.count()\n",
    "\n",
    "\n",
    "print(f'Class 1:\\t{passengers_class_1.Pclass.count()} - {passengers_class_1_percent_survived}')\n",
    "print(f'Class 2:\\t{passengers_class_2.Pclass.count()} - {passengers_class_2_percent_survived}')\n",
    "print(f'Class 3:\\t{passengers_class_3.Pclass.count()} - {passengers_class_3_percent_survived}')\n"
   ]
  },
  {
   "cell_type": "code",
   "execution_count": 27,
   "metadata": {},
   "outputs": [
    {
     "data": {
      "text/plain": [
       "Text(0.5, 1.0, 'Titanic Survivablity by Passenger Class')"
      ]
     },
     "execution_count": 27,
     "metadata": {},
     "output_type": "execute_result"
    },
    {
     "data": {
      "image/png": "[encoded data removed]",
      "text/plain": [
       "<Figure size 432x288 with 1 Axes>"
      ]
     },
     "metadata": {
      "needs_background": "light"
     },
     "output_type": "display_data"
    }
   ],
   "source": [
    "# Show data as a bar chart\n",
    "groups = ('Class 1', 'Class 2', 'Class 3')\n",
    "percentages = [0.63, 0.47, 0.24]\n",
    "plt.bar(groups, percentages, align='center', alpha=0.5)\n",
    "plt.ylabel(\"Percent Survived\")\n",
    "plt.title(\"Titanic Survivablity by Passenger Class\")"
   ]
  },
  {
   "cell_type": "markdown",
   "metadata": {},
   "source": [
    "It is clear that Class 1 passengers were more likely to be saved, whether they were closer to the lifeboats or a genuine perference cannot be deteremined.  One again looking at this data by age and gender would be interesting for furtehr study.\n",
    "\n",
    "This is not an exhaustive review of the data available, but simple review based on three attributes treating them as independent.  Much more data could be analyzed for deeper more specific ideas of how the surviving passengers were selected."
   ]
  }
 ],
 "metadata": {
  "kernelspec": {
   "display_name": "Python 3 (ipykernel)",
   "language": "python",
   "name": "python3"
  },
  "language_info": {
   "codemirror_mode": {
    "name": "ipython",
    "version": 3
   },
   "file_extension": ".py",
   "mimetype": "text/x-python",
   "name": "python",
   "nbconvert_exporter": "python",
   "pygments_lexer": "ipython3",
   "version": "3.9.7"
  }
 },
 "nbformat": 4,
 "nbformat_minor": 2
}
