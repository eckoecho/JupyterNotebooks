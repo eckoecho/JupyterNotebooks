{
 "cells": [
  {
   "cell_type": "code",
   "execution_count": 1,
   "id": "5e69b176",
   "metadata": {},
   "outputs": [],
   "source": [
    "import numpy as np"
   ]
  },
  {
   "cell_type": "code",
   "execution_count": 2,
   "id": "a9cfbf43",
   "metadata": {},
   "outputs": [],
   "source": [
    "import pandas as pd"
   ]
  },
  {
   "cell_type": "markdown",
   "id": "5ca46193",
   "metadata": {},
   "source": [
    "### Numpy is the basis of Pandas. So, we first \"shape\" our array (spaced 3 rows, 3 columns), with a range up to 9."
   ]
  },
  {
   "cell_type": "code",
   "execution_count": 3,
   "id": "67811add",
   "metadata": {},
   "outputs": [],
   "source": [
    "data = np.reshape(np.arange(9),(3,3))"
   ]
  },
  {
   "cell_type": "code",
   "execution_count": 13,
   "id": "32309f0a",
   "metadata": {},
   "outputs": [
    {
     "data": {
      "text/plain": [
       "array([[0, 1, 2],\n",
       "       [3, 4, 5],\n",
       "       [6, 7, 8]])"
      ]
     },
     "execution_count": 13,
     "metadata": {},
     "output_type": "execute_result"
    }
   ],
   "source": [
    "data"
   ]
  },
  {
   "cell_type": "markdown",
   "id": "3df90657",
   "metadata": {},
   "source": [
    "### We then turn that array into a dataframe, where we establish rows and columns."
   ]
  },
  {
   "cell_type": "code",
   "execution_count": 14,
   "id": "5ba2539e",
   "metadata": {},
   "outputs": [],
   "source": [
    "df1 = pd.DataFrame(data)"
   ]
  },
  {
   "cell_type": "code",
   "execution_count": 15,
   "id": "e073105d",
   "metadata": {},
   "outputs": [
    {
     "data": {
      "text/html": [
       "<div>\n",
       "<style scoped>\n",
       "    .dataframe tbody tr th:only-of-type {\n",
       "        vertical-align: middle;\n",
       "    }\n",
       "\n",
       "    .dataframe tbody tr th {\n",
       "        vertical-align: top;\n",
       "    }\n",
       "\n",
       "    .dataframe thead th {\n",
       "        text-align: right;\n",
       "    }\n",
       "</style>\n",
       "<table border=\"1\" class=\"dataframe\">\n",
       "  <thead>\n",
       "    <tr style=\"text-align: right;\">\n",
       "      <th></th>\n",
       "      <th>0</th>\n",
       "      <th>1</th>\n",
       "      <th>2</th>\n",
       "    </tr>\n",
       "  </thead>\n",
       "  <tbody>\n",
       "    <tr>\n",
       "      <th>0</th>\n",
       "      <td>0</td>\n",
       "      <td>1</td>\n",
       "      <td>2</td>\n",
       "    </tr>\n",
       "    <tr>\n",
       "      <th>1</th>\n",
       "      <td>3</td>\n",
       "      <td>4</td>\n",
       "      <td>5</td>\n",
       "    </tr>\n",
       "    <tr>\n",
       "      <th>2</th>\n",
       "      <td>6</td>\n",
       "      <td>7</td>\n",
       "      <td>8</td>\n",
       "    </tr>\n",
       "  </tbody>\n",
       "</table>\n",
       "</div>"
      ],
      "text/plain": [
       "   0  1  2\n",
       "0  0  1  2\n",
       "1  3  4  5\n",
       "2  6  7  8"
      ]
     },
     "execution_count": 15,
     "metadata": {},
     "output_type": "execute_result"
    }
   ],
   "source": [
    "df1"
   ]
  },
  {
   "cell_type": "code",
   "execution_count": 20,
   "id": "af19e858",
   "metadata": {},
   "outputs": [],
   "source": [
    "df1.columns=[\"A\", \"B\", \"C\"]"
   ]
  },
  {
   "cell_type": "code",
   "execution_count": 21,
   "id": "6e81118a",
   "metadata": {},
   "outputs": [],
   "source": [
    "df1.index=[\"first\", \"second\", \"third\"]"
   ]
  },
  {
   "cell_type": "code",
   "execution_count": 23,
   "id": "6ed32ea6",
   "metadata": {},
   "outputs": [
    {
     "data": {
      "text/html": [
       "<div>\n",
       "<style scoped>\n",
       "    .dataframe tbody tr th:only-of-type {\n",
       "        vertical-align: middle;\n",
       "    }\n",
       "\n",
       "    .dataframe tbody tr th {\n",
       "        vertical-align: top;\n",
       "    }\n",
       "\n",
       "    .dataframe thead th {\n",
       "        text-align: right;\n",
       "    }\n",
       "</style>\n",
       "<table border=\"1\" class=\"dataframe\">\n",
       "  <thead>\n",
       "    <tr style=\"text-align: right;\">\n",
       "      <th></th>\n",
       "      <th>A</th>\n",
       "      <th>B</th>\n",
       "      <th>C</th>\n",
       "    </tr>\n",
       "  </thead>\n",
       "  <tbody>\n",
       "    <tr>\n",
       "      <th>first</th>\n",
       "      <td>0</td>\n",
       "      <td>1</td>\n",
       "      <td>2</td>\n",
       "    </tr>\n",
       "    <tr>\n",
       "      <th>second</th>\n",
       "      <td>3</td>\n",
       "      <td>4</td>\n",
       "      <td>5</td>\n",
       "    </tr>\n",
       "    <tr>\n",
       "      <th>third</th>\n",
       "      <td>6</td>\n",
       "      <td>7</td>\n",
       "      <td>8</td>\n",
       "    </tr>\n",
       "  </tbody>\n",
       "</table>\n",
       "</div>"
      ],
      "text/plain": [
       "        A  B  C\n",
       "first   0  1  2\n",
       "second  3  4  5\n",
       "third   6  7  8"
      ]
     },
     "execution_count": 23,
     "metadata": {},
     "output_type": "execute_result"
    }
   ],
   "source": [
    "df1"
   ]
  },
  {
   "cell_type": "code",
   "execution_count": 24,
   "id": "edb04bff",
   "metadata": {},
   "outputs": [],
   "source": [
    "df2 = pd.DataFrame(np.random.rand(3,3))"
   ]
  },
  {
   "cell_type": "code",
   "execution_count": 32,
   "id": "7bc4b003",
   "metadata": {},
   "outputs": [
    {
     "data": {
      "text/html": [
       "<div>\n",
       "<style scoped>\n",
       "    .dataframe tbody tr th:only-of-type {\n",
       "        vertical-align: middle;\n",
       "    }\n",
       "\n",
       "    .dataframe tbody tr th {\n",
       "        vertical-align: top;\n",
       "    }\n",
       "\n",
       "    .dataframe thead th {\n",
       "        text-align: right;\n",
       "    }\n",
       "</style>\n",
       "<table border=\"1\" class=\"dataframe\">\n",
       "  <thead>\n",
       "    <tr style=\"text-align: right;\">\n",
       "      <th></th>\n",
       "      <th>D</th>\n",
       "      <th>F</th>\n",
       "      <th>E</th>\n",
       "    </tr>\n",
       "  </thead>\n",
       "  <tbody>\n",
       "    <tr>\n",
       "      <th>first</th>\n",
       "      <td>0.988799</td>\n",
       "      <td>0.400637</td>\n",
       "      <td>0.036485</td>\n",
       "    </tr>\n",
       "    <tr>\n",
       "      <th>second</th>\n",
       "      <td>0.688826</td>\n",
       "      <td>0.674449</td>\n",
       "      <td>0.235895</td>\n",
       "    </tr>\n",
       "    <tr>\n",
       "      <th>third</th>\n",
       "      <td>0.572365</td>\n",
       "      <td>0.214032</td>\n",
       "      <td>0.450472</td>\n",
       "    </tr>\n",
       "  </tbody>\n",
       "</table>\n",
       "</div>"
      ],
      "text/plain": [
       "               D         F         E\n",
       "first   0.988799  0.400637  0.036485\n",
       "second  0.688826  0.674449  0.235895\n",
       "third   0.572365  0.214032  0.450472"
      ]
     },
     "execution_count": 32,
     "metadata": {},
     "output_type": "execute_result"
    }
   ],
   "source": [
    "df2"
   ]
  },
  {
   "cell_type": "code",
   "execution_count": 31,
   "id": "55a05cf6",
   "metadata": {},
   "outputs": [],
   "source": [
    "df2.columns = (\"D\", \"F\", \"E\")"
   ]
  },
  {
   "cell_type": "code",
   "execution_count": 33,
   "id": "1c484160",
   "metadata": {},
   "outputs": [],
   "source": [
    "df2.index = (\"first\", \"second\", \"third\")"
   ]
  },
  {
   "cell_type": "code",
   "execution_count": 43,
   "id": "e2c5b83e",
   "metadata": {},
   "outputs": [],
   "source": [
    "df3 = pd.concat([df1,df2], axis = 1)"
   ]
  },
  {
   "cell_type": "markdown",
   "id": "616c99c6",
   "metadata": {},
   "source": [
    "### Using Pandas concat method and using axis=1 (<mark>axis 1 impacts columns, axis 0 impacts rows</mark>) will join the rows of each dataframe together."
   ]
  },
  {
   "cell_type": "code",
   "execution_count": 39,
   "id": "828f7ddf",
   "metadata": {},
   "outputs": [
    {
     "data": {
      "text/html": [
       "<div>\n",
       "<style scoped>\n",
       "    .dataframe tbody tr th:only-of-type {\n",
       "        vertical-align: middle;\n",
       "    }\n",
       "\n",
       "    .dataframe tbody tr th {\n",
       "        vertical-align: top;\n",
       "    }\n",
       "\n",
       "    .dataframe thead th {\n",
       "        text-align: right;\n",
       "    }\n",
       "</style>\n",
       "<table border=\"1\" class=\"dataframe\">\n",
       "  <thead>\n",
       "    <tr style=\"text-align: right;\">\n",
       "      <th></th>\n",
       "      <th>A</th>\n",
       "      <th>B</th>\n",
       "      <th>C</th>\n",
       "      <th>D</th>\n",
       "      <th>F</th>\n",
       "      <th>E</th>\n",
       "    </tr>\n",
       "  </thead>\n",
       "  <tbody>\n",
       "    <tr>\n",
       "      <th>first</th>\n",
       "      <td>0</td>\n",
       "      <td>1</td>\n",
       "      <td>2</td>\n",
       "      <td>0.988799</td>\n",
       "      <td>0.400637</td>\n",
       "      <td>0.036485</td>\n",
       "    </tr>\n",
       "    <tr>\n",
       "      <th>second</th>\n",
       "      <td>3</td>\n",
       "      <td>4</td>\n",
       "      <td>5</td>\n",
       "      <td>0.688826</td>\n",
       "      <td>0.674449</td>\n",
       "      <td>0.235895</td>\n",
       "    </tr>\n",
       "    <tr>\n",
       "      <th>third</th>\n",
       "      <td>6</td>\n",
       "      <td>7</td>\n",
       "      <td>8</td>\n",
       "      <td>0.572365</td>\n",
       "      <td>0.214032</td>\n",
       "      <td>0.450472</td>\n",
       "    </tr>\n",
       "  </tbody>\n",
       "</table>\n",
       "</div>"
      ],
      "text/plain": [
       "        A  B  C         D         F         E\n",
       "first   0  1  2  0.988799  0.400637  0.036485\n",
       "second  3  4  5  0.688826  0.674449  0.235895\n",
       "third   6  7  8  0.572365  0.214032  0.450472"
      ]
     },
     "execution_count": 39,
     "metadata": {},
     "output_type": "execute_result"
    }
   ],
   "source": [
    "df3"
   ]
  },
  {
   "cell_type": "code",
   "execution_count": 44,
   "id": "20b97b76",
   "metadata": {},
   "outputs": [
    {
     "data": {
      "text/plain": [
       "A      int64\n",
       "B      int64\n",
       "C      int64\n",
       "D    float64\n",
       "F    float64\n",
       "E    float64\n",
       "dtype: object"
      ]
     },
     "execution_count": 44,
     "metadata": {},
     "output_type": "execute_result"
    }
   ],
   "source": [
    "df3.dtypes"
   ]
  },
  {
   "cell_type": "markdown",
   "id": "27fe5de4",
   "metadata": {},
   "source": [
    "### Calling all colums"
   ]
  },
  {
   "cell_type": "code",
   "execution_count": 45,
   "id": "767322bb",
   "metadata": {},
   "outputs": [
    {
     "data": {
      "text/plain": [
       "Index(['A', 'B', 'C', 'D', 'F', 'E'], dtype='object')"
      ]
     },
     "execution_count": 45,
     "metadata": {},
     "output_type": "execute_result"
    }
   ],
   "source": [
    "df3.columns"
   ]
  },
  {
   "cell_type": "code",
   "execution_count": 46,
   "id": "ace184c0",
   "metadata": {},
   "outputs": [
    {
     "data": {
      "text/plain": [
       "first     0.400637\n",
       "second    0.674449\n",
       "third     0.214032\n",
       "Name: F, dtype: float64"
      ]
     },
     "execution_count": 46,
     "metadata": {},
     "output_type": "execute_result"
    }
   ],
   "source": [
    "df3[\"F\"]"
   ]
  },
  {
   "cell_type": "markdown",
   "id": "1467f149",
   "metadata": {},
   "source": [
    "### .loc will bring back all the values of a row"
   ]
  },
  {
   "cell_type": "code",
   "execution_count": 47,
   "id": "f5a68f58",
   "metadata": {},
   "outputs": [
    {
     "data": {
      "text/plain": [
       "A    0.000000\n",
       "B    1.000000\n",
       "C    2.000000\n",
       "D    0.988799\n",
       "F    0.400637\n",
       "E    0.036485\n",
       "Name: first, dtype: float64"
      ]
     },
     "execution_count": 47,
     "metadata": {},
     "output_type": "execute_result"
    }
   ],
   "source": [
    "df3.loc[\"first\"]"
   ]
  },
  {
   "cell_type": "markdown",
   "id": "9fb42339",
   "metadata": {},
   "source": [
    "### Much like .loc will return values by row, the .iloc method will search by index"
   ]
  },
  {
   "cell_type": "code",
   "execution_count": 48,
   "id": "be98589b",
   "metadata": {},
   "outputs": [
    {
     "data": {
      "text/plain": [
       "A    0.000000\n",
       "B    1.000000\n",
       "C    2.000000\n",
       "D    0.988799\n",
       "F    0.400637\n",
       "E    0.036485\n",
       "Name: first, dtype: float64"
      ]
     },
     "execution_count": 48,
     "metadata": {},
     "output_type": "execute_result"
    }
   ],
   "source": [
    "df3.iloc[0]"
   ]
  },
  {
   "cell_type": "markdown",
   "id": "95b1f79c",
   "metadata": {},
   "source": [
    "### But to find a certain value, you use indices"
   ]
  },
  {
   "cell_type": "code",
   "execution_count": 52,
   "id": "e0efaf29",
   "metadata": {},
   "outputs": [
    {
     "data": {
      "text/plain": [
       "8.0"
      ]
     },
     "execution_count": 52,
     "metadata": {},
     "output_type": "execute_result"
    }
   ],
   "source": [
    "df3.iloc[2][2]"
   ]
  }
 ],
 "metadata": {
  "kernelspec": {
   "display_name": "Anaconda (Jupyter Projects)",
   "language": "python",
   "name": "anaconda-jupyter_projects"
  },
  "language_info": {
   "codemirror_mode": {
    "name": "ipython",
    "version": 3
   },
   "file_extension": ".py",
   "mimetype": "text/x-python",
   "name": "python",
   "nbconvert_exporter": "python",
   "pygments_lexer": "ipython3",
   "version": "3.8.5"
  }
 },
 "nbformat": 4,
 "nbformat_minor": 5
}
