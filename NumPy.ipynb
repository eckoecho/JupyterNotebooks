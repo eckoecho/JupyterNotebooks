{
 "cells": [
  {
   "cell_type": "markdown",
   "id": "ec2abcd6",
   "metadata": {},
   "source": [
    "# This is a \"rank 1 array\" "
   ]
  },
  {
   "cell_type": "code",
   "execution_count": 1,
   "id": "8a518a6f",
   "metadata": {},
   "outputs": [],
   "source": [
    "import numpy as np"
   ]
  },
  {
   "cell_type": "code",
   "execution_count": 2,
   "id": "3edda45e",
   "metadata": {},
   "outputs": [],
   "source": [
    "a = np.array([1,2,3])"
   ]
  },
  {
   "cell_type": "code",
   "execution_count": 7,
   "id": "0401def2",
   "metadata": {},
   "outputs": [
    {
     "name": "stdout",
     "output_type": "stream",
     "text": [
      "<class 'numpy.ndarray'>\n"
     ]
    }
   ],
   "source": [
    "print(type(a))"
   ]
  },
  {
   "cell_type": "markdown",
   "id": "1df8717c",
   "metadata": {},
   "source": [
    "### ^ Confirming list has been made into an array"
   ]
  },
  {
   "cell_type": "code",
   "execution_count": 8,
   "id": "a2ef0cf9",
   "metadata": {},
   "outputs": [
    {
     "name": "stdout",
     "output_type": "stream",
     "text": [
      "(3,)\n"
     ]
    }
   ],
   "source": [
    "print(a.shape)"
   ]
  },
  {
   "cell_type": "markdown",
   "id": "1be45d98",
   "metadata": {},
   "source": [
    "### The shape of an array is the number of elements in each dimension"
   ]
  },
  {
   "cell_type": "code",
   "execution_count": 10,
   "id": "05d09720",
   "metadata": {},
   "outputs": [
    {
     "name": "stdout",
     "output_type": "stream",
     "text": [
      "1 2 3\n"
     ]
    }
   ],
   "source": [
    "print(a[0], a[1], a[2])"
   ]
  },
  {
   "cell_type": "markdown",
   "id": "acb51b9e",
   "metadata": {},
   "source": [
    "### Prints out elements in the array, just like in a list."
   ]
  },
  {
   "cell_type": "code",
   "execution_count": 11,
   "id": "7654f621",
   "metadata": {},
   "outputs": [
    {
     "name": "stdout",
     "output_type": "stream",
     "text": [
      "[4 2 3]\n"
     ]
    }
   ],
   "source": [
    "a[0]=4\n",
    "print(a)"
   ]
  },
  {
   "cell_type": "markdown",
   "id": "73bc6a30",
   "metadata": {},
   "source": [
    "### Replacing the first element"
   ]
  },
  {
   "cell_type": "markdown",
   "id": "c74914c0",
   "metadata": {},
   "source": [
    "---------------------------------------------------"
   ]
  },
  {
   "cell_type": "markdown",
   "id": "76101290",
   "metadata": {},
   "source": [
    "# This is a \"rank 2 array\" . Its a \"2 array\" bc it has a column and rows(indexes), unlike \"1 array\" which only has columns."
   ]
  },
  {
   "cell_type": "code",
   "execution_count": 13,
   "id": "0c6ad605",
   "metadata": {},
   "outputs": [],
   "source": [
    "b = np.array([[1,2,3], [4,5,6]])"
   ]
  },
  {
   "cell_type": "code",
   "execution_count": 14,
   "id": "99a60ac8",
   "metadata": {},
   "outputs": [
    {
     "name": "stdout",
     "output_type": "stream",
     "text": [
      "[[1 2 3]\n",
      " [4 5 6]]\n"
     ]
    }
   ],
   "source": [
    "print(b)"
   ]
  },
  {
   "cell_type": "markdown",
   "id": "1b8aa0e7",
   "metadata": {},
   "source": [
    "### Pulling elements from array"
   ]
  },
  {
   "cell_type": "code",
   "execution_count": 20,
   "id": "588de6a7",
   "metadata": {},
   "outputs": [
    {
     "name": "stdout",
     "output_type": "stream",
     "text": [
      "1 5 3\n"
     ]
    }
   ],
   "source": [
    "print(b[0,0], b[1,1], b[0,2])"
   ]
  },
  {
   "cell_type": "code",
   "execution_count": 18,
   "id": "1b3947f4",
   "metadata": {},
   "outputs": [
    {
     "name": "stdout",
     "output_type": "stream",
     "text": [
      "(2, 3)\n"
     ]
    }
   ],
   "source": [
    "print(b.shape)"
   ]
  },
  {
   "cell_type": "code",
   "execution_count": null,
   "id": "18b2efe5",
   "metadata": {},
   "outputs": [],
   "source": []
  }
 ],
 "metadata": {
  "kernelspec": {
   "display_name": "Anaconda (Jupyter Projects)",
   "language": "python",
   "name": "anaconda-jupyter_projects"
  },
  "language_info": {
   "codemirror_mode": {
    "name": "ipython",
    "version": 3
   },
   "file_extension": ".py",
   "mimetype": "text/x-python",
   "name": "python",
   "nbconvert_exporter": "python",
   "pygments_lexer": "ipython3",
   "version": "3.8.5"
  }
 },
 "nbformat": 4,
 "nbformat_minor": 5
}
