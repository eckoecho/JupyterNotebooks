{
 "cells": [
  {
   "cell_type": "code",
   "execution_count": 1,
   "id": "592de561",
   "metadata": {},
   "outputs": [
    {
     "name": "stdout",
     "output_type": "stream",
     "text": [
      "shift + enter = new cell\n"
     ]
    }
   ],
   "source": [
    "print(\"shift + enter = new cell\")"
   ]
  },
  {
   "cell_type": "code",
   "execution_count": 3,
   "id": "74288df4",
   "metadata": {},
   "outputs": [
    {
     "name": "stdout",
     "output_type": "stream",
     "text": [
      "control + enter = to execute without making a new cell\n"
     ]
    }
   ],
   "source": [
    "print(\"control + enter = to execute without making a new cell\")"
   ]
  },
  {
   "cell_type": "code",
   "execution_count": 4,
   "id": "65a271f6",
   "metadata": {},
   "outputs": [
    {
     "name": "stdout",
     "output_type": "stream",
     "text": [
      "press A to get new cell above\n"
     ]
    }
   ],
   "source": [
    "print(\"press A to get new cell above\")"
   ]
  },
  {
   "cell_type": "markdown",
   "id": "67977a12",
   "metadata": {},
   "source": [
    "# Markdown Title\n",
    ">Note: I love indented notes"
   ]
  },
  {
   "cell_type": "code",
   "execution_count": 5,
   "id": "b6bb32d4",
   "metadata": {},
   "outputs": [
    {
     "name": "stdout",
     "output_type": "stream",
     "text": [
      "command +/ = comment and uncomment\n"
     ]
    }
   ],
   "source": [
    "print(\"command +/ = comment and uncomment\")"
   ]
  },
  {
   "cell_type": "code",
   "execution_count": 8,
   "id": "44e8894a",
   "metadata": {},
   "outputs": [
    {
     "name": "stdout",
     "output_type": "stream",
     "text": [
      "Requirement already satisfied: numpy in /Users/echodiaz/opt/anaconda3/lib/python3.9/site-packages (1.20.3)\r\n"
     ]
    }
   ],
   "source": [
    "!pip install numpy"
   ]
  },
  {
   "cell_type": "code",
   "execution_count": 1,
   "id": "b3b0c913",
   "metadata": {},
   "outputs": [],
   "source": [
    "import numpy as np"
   ]
  },
  {
   "cell_type": "code",
   "execution_count": 5,
   "id": "11e12e0f",
   "metadata": {},
   "outputs": [
    {
     "name": "stdout",
     "output_type": "stream",
     "text": [
      "Requirement already satisfied: asana in /Users/echodiaz/opt/anaconda3/lib/python3.9/site-packages (0.10.3)\r\n",
      "Requirement already satisfied: requests==2.*,>=2.20.0 in /Users/echodiaz/opt/anaconda3/lib/python3.9/site-packages (from asana) (2.26.0)\r\n",
      "Requirement already satisfied: requests-oauthlib<2.0,>=0.8.0 in /Users/echodiaz/opt/anaconda3/lib/python3.9/site-packages (from asana) (1.3.0)\r\n",
      "Requirement already satisfied: six==1.*,>=1.10 in /Users/echodiaz/opt/anaconda3/lib/python3.9/site-packages (from asana) (1.16.0)\r\n",
      "Requirement already satisfied: idna<4,>=2.5 in /Users/echodiaz/opt/anaconda3/lib/python3.9/site-packages (from requests==2.*,>=2.20.0->asana) (3.2)\r\n",
      "Requirement already satisfied: certifi>=2017.4.17 in /Users/echodiaz/opt/anaconda3/lib/python3.9/site-packages (from requests==2.*,>=2.20.0->asana) (2021.10.8)\r\n",
      "Requirement already satisfied: urllib3<1.27,>=1.21.1 in /Users/echodiaz/opt/anaconda3/lib/python3.9/site-packages (from requests==2.*,>=2.20.0->asana) (1.26.7)\r\n",
      "Requirement already satisfied: charset-normalizer~=2.0.0 in /Users/echodiaz/opt/anaconda3/lib/python3.9/site-packages (from requests==2.*,>=2.20.0->asana) (2.0.4)\r\n",
      "Requirement already satisfied: oauthlib>=3.0.0 in /Users/echodiaz/opt/anaconda3/lib/python3.9/site-packages (from requests-oauthlib<2.0,>=0.8.0->asana) (3.1.1)\r\n"
     ]
    }
   ],
   "source": [
    "!pip install asana"
   ]
  },
  {
   "cell_type": "code",
   "execution_count": 12,
   "id": "5692cd62",
   "metadata": {},
   "outputs": [
    {
     "name": "stdout",
     "output_type": "stream",
     "text": [
      "{\r\n",
      "  \"kernelspecs\": {\r\n",
      "    \"python3\": {\r\n",
      "      \"resource_dir\": \"/Users/echodiaz/opt/anaconda3/share/jupyter/kernels/python3\",\r\n",
      "      \"spec\": {\r\n",
      "        \"argv\": [\r\n",
      "          \"/Users/echodiaz/opt/anaconda3/bin/python\",\r\n",
      "          \"-m\",\r\n",
      "          \"ipykernel_launcher\",\r\n",
      "          \"-f\",\r\n",
      "          \"{connection_file}\"\r\n",
      "        ],\r\n",
      "        \"env\": {},\r\n",
      "        \"display_name\": \"Python 3 (ipykernel)\",\r\n",
      "        \"language\": \"python\",\r\n",
      "        \"interrupt_mode\": \"signal\",\r\n",
      "        \"metadata\": {\r\n",
      "          \"debugger\": true\r\n",
      "        }\r\n",
      "      }\r\n",
      "    }\r\n",
      "  }\r\n",
      "}\r\n"
     ]
    }
   ],
   "source": [
    "!jupyter kernelspec list --json"
   ]
  },
  {
   "cell_type": "markdown",
   "id": "9407974a",
   "metadata": {},
   "source": [
    "### This is the python paths that Jupyter uses"
   ]
  },
  {
   "cell_type": "code",
   "execution_count": 15,
   "id": "7e30fcfd",
   "metadata": {},
   "outputs": [
    {
     "name": "stdout",
     "output_type": "stream",
     "text": [
      "/Users/echodiaz/opt/anaconda3/bin/python\r\n",
      "/usr/bin/python\r\n"
     ]
    }
   ],
   "source": [
    "!which -a python"
   ]
  },
  {
   "cell_type": "code",
   "execution_count": 4,
   "id": "85863a9b",
   "metadata": {},
   "outputs": [
    {
     "name": "stdout",
     "output_type": "stream",
     "text": [
      "Python 3.9.7\r\n"
     ]
    }
   ],
   "source": [
    "!python --version"
   ]
  },
  {
   "cell_type": "markdown",
   "id": "53e14485",
   "metadata": {},
   "source": [
    "### I ended up adding this within a Terminal\n",
    "`conda activate Jupyter_Projects`\n",
    "\n",
    "`python -m ipykernel install --user --name anaconda-Jupyter_Projects --display-name \"Anaconda (Jupyter Projects)\"`\n",
    "### Now the below list shows different python paths for Jupter to use, using the kernel within Anaconda"
   ]
  },
  {
   "cell_type": "code",
   "execution_count": 2,
   "id": "1ed333cd",
   "metadata": {
    "scrolled": true
   },
   "outputs": [
    {
     "name": "stdout",
     "output_type": "stream",
     "text": [
      "{\r\n",
      "  \"kernelspecs\": {\r\n",
      "    \"anaconda-jupyter_projects\": {\r\n",
      "      \"resource_dir\": \"/Users/echodiaz/Library/Jupyter/kernels/anaconda-jupyter_projects\",\r\n",
      "      \"spec\": {\r\n",
      "        \"argv\": [\r\n",
      "          \"/Library/Frameworks/Python.framework/Versions/3.8/bin/python3\",\r\n",
      "          \"-m\",\r\n",
      "          \"ipykernel_launcher\",\r\n",
      "          \"-f\",\r\n",
      "          \"{connection_file}\"\r\n",
      "        ],\r\n",
      "        \"env\": {},\r\n",
      "        \"display_name\": \"Anaconda (Jupyter Projects)\",\r\n",
      "        \"language\": \"python\",\r\n",
      "        \"interrupt_mode\": \"signal\",\r\n",
      "        \"metadata\": {\r\n",
      "          \"debugger\": true\r\n",
      "        }\r\n",
      "      }\r\n",
      "    },\r\n",
      "    \"python3\": {\r\n",
      "      \"resource_dir\": \"/Users/echodiaz/opt/anaconda3/share/jupyter/kernels/python3\",\r\n",
      "      \"spec\": {\r\n",
      "        \"argv\": [\r\n",
      "          \"/Users/echodiaz/opt/anaconda3/bin/python\",\r\n",
      "          \"-m\",\r\n",
      "          \"ipykernel_launcher\",\r\n",
      "          \"-f\",\r\n",
      "          \"{connection_file}\"\r\n",
      "        ],\r\n",
      "        \"env\": {},\r\n",
      "        \"display_name\": \"Python 3 (ipykernel)\",\r\n",
      "        \"language\": \"python\",\r\n",
      "        \"interrupt_mode\": \"signal\",\r\n",
      "        \"metadata\": {\r\n",
      "          \"debugger\": true\r\n",
      "        }\r\n",
      "      }\r\n",
      "    }\r\n",
      "  }\r\n",
      "}\r\n"
     ]
    }
   ],
   "source": [
    "!jupyter kernelspec list --json"
   ]
  }
 ],
 "metadata": {
  "kernelspec": {
   "display_name": "Anaconda (Jupyter Projects)",
   "language": "python",
   "name": "anaconda-jupyter_projects"
  },
  "language_info": {
   "codemirror_mode": {
    "name": "ipython",
    "version": 3
   },
   "file_extension": ".py",
   "mimetype": "text/x-python",
   "name": "python",
   "nbconvert_exporter": "python",
   "pygments_lexer": "ipython3",
   "version": "3.8.5"
  }
 },
 "nbformat": 4,
 "nbformat_minor": 5
}
